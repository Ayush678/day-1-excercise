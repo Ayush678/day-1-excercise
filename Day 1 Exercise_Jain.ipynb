{
 "cells": [
  {
   "cell_type": "markdown",
   "metadata": {},
   "source": [
    "## Questions"
   ]
  },
  {
   "cell_type": "markdown",
   "metadata": {},
   "source": [
    "1. Decode this secrete message:\n",
    "01001100 01101111 01100111 01101001 01100011"
   ]
  },
  {
   "cell_type": "markdown",
   "metadata": {},
   "source": [
    "76 111 103 105 99 = Logic"
   ]
  },
  {
   "cell_type": "markdown",
   "metadata": {},
   "source": [
    "2. Identify and explain stages of Programming."
   ]
  },
  {
   "cell_type": "markdown",
   "metadata": {},
   "source": [
    "Analyze - identify the problem or objective,\n",
    "Plan - figure out how to solve the problem or reach the objective,\n",
    "Code - code the program,\n",
    "Test - test the program and make sure it runs the way it was intended to run ,\n",
    "Maintenance - Fix any bugs and make enhancements to the code"
   ]
  },
  {
   "cell_type": "markdown",
   "metadata": {},
   "source": [
    "3. Explain why do we use Selection? What kind of Statements or code do we use with that?"
   ]
  },
  {
   "cell_type": "markdown",
   "metadata": {},
   "source": [
    "So that a certain portion of the code is run when a condition is met."
   ]
  },
  {
   "cell_type": "markdown",
   "metadata": {},
   "source": [
    "4. Explain why do we use Sequence? Why is this part integral?"
   ]
  },
  {
   "cell_type": "markdown",
   "metadata": {},
   "source": [
    "A set of steps that are executed to perform a task."
   ]
  },
  {
   "cell_type": "markdown",
   "metadata": {},
   "source": [
    "5. Explain why do we use Repetition? What kind of statements or code do we use with that?"
   ]
  },
  {
   "cell_type": "markdown",
   "metadata": {},
   "source": [
    "So that we don't have to keep writing the same code over and over again and so that a step keeps repeating until a condition is met."
   ]
  },
  {
   "cell_type": "markdown",
   "metadata": {},
   "source": [
    "6. Knowing all this, explain why do we use the Structured Program Theorom and why do you need to know it?"
   ]
  },
  {
   "cell_type": "markdown",
   "metadata": {},
   "source": [
    "Flowcharts can execute any function if it combines subprogrames in 3 ways, selection, sequence, and repitition. "
   ]
  }
 ],
 "metadata": {
  "kernelspec": {
   "display_name": "Python 3",
   "language": "python",
   "name": "python3"
  },
  "language_info": {
   "codemirror_mode": {
    "name": "ipython",
    "version": 3
   },
   "file_extension": ".py",
   "mimetype": "text/x-python",
   "name": "python",
   "nbconvert_exporter": "python",
   "pygments_lexer": "ipython3",
   "version": "3.8.8"
  }
 },
 "nbformat": 4,
 "nbformat_minor": 4
}
